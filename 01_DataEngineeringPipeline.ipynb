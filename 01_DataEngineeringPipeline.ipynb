{
  "cells": [
    {
      "cell_type": "markdown",
      "metadata": {},
      "source": [
        "# Online Retail Data Engineering Competition – End-to-End Pipeline (Snowflake)\n",
        "\n",
        "This notebook demonstrates a complete workflow using Snowflake for an online retail company:\n",
        "- Environment setup and connection\n",
        "- Data extraction from RAW layer\n",
        "- Data quality checks and profiling\n",
        "- Transformations and modeling into CURATED layer\n",
        "- Analytical model and metric creation in MART layer\n",
        "- Performance and cost considerations\n",
        "- Extension: predictive analytics ideas\n",
        "\n",
        "Assumptions:\n",
        "- SQL setup has been executed via `00_Setup.sql` to create schemas and seed data.\n",
        "- Snowflake credentials are available as environment variables.\n"
      ]
    },
    {
      "cell_type": "code",
      "execution_count": null,
      "metadata": {},
      "outputs": [],
      "source": [
        "import os\n",
        "import pandas as pd\n",
        "import numpy as np\n",
        "import snowflake.connector\n",
        "from datetime import datetime\n",
        "\n",
        "# Helper: Snowflake connection\n",
        "def get_snowflake_connection():\n",
        "    \n",
        " \n",
        "    print(os.getenv('SNOWFLAKE_ACCOUNT'))\n",
        "    for name, value in os.environ.items():\n",
        "        if (name.startswith('SNOWFLAKE_')):\n",
        "            print(\"{0}: {1}\".format(name, value))\n",
        "    \n",
        "    conn = snowflake.connector.connect(\n",
        "        user=os.getenv('SNOWFLAKE_USER'),\n",
        "        password=os.getenv('SNOWFLAKE_PASSWORD'),\n",
        "        account=os.getenv('SNOWFLAKE_ACCOUNT'),\n",
        "        warehouse=os.getenv('SNOWFLAKE_WAREHOUSE', 'WH_RETAIL_COMPETITION'),\n",
        "        database=os.getenv('SNOWFLAKE_DATABASE', 'RETAIL_COMPETITION'),\n",
        "        role=os.getenv('SNOWFLAKE_ROLE')\n",
        "    )\n",
        "    return conn\n",
        "\n",
        "conn = get_snowflake_connection()\n",
        "cur = conn.cursor()\n",
        "cur.execute(\"USE DATABASE RETAIL_COMPETITION;\")\n",
        "cur.execute(\"USE SCHEMA RAW;\")\n",
        "print('Connected to Snowflake and set context.')\n"
      ]
    },
    {
      "cell_type": "markdown",
      "metadata": {},
      "source": [
        "## Extract: Read from RAW tables\n",
        "We will quickly preview `CUSTOMERS`, `PRODUCTS`, `ORDERS`, `ORDER_ITEMS`, `CUSTOMER_INTERACTIONS`, and `MARKETING_CAMPAIGNS`.\n"
      ]
    },
    {
      "cell_type": "code",
      "execution_count": null,
      "metadata": {},
      "outputs": [],
      "source": [
        "tables = [\n",
        "    'CUSTOMERS','PRODUCTS','SUPPLIERS','EMPLOYEES','ORDERS','ORDER_ITEMS','CUSTOMER_INTERACTIONS','MARKETING_CAMPAIGNS'\n",
        "]\n",
        "preview = {}\n",
        "for t in tables:\n",
        "    cur.execute(f\"SELECT * FROM RAW.{t} LIMIT 5\")\n",
        "    cols = [c[0] for c in cur.description]\n",
        "    rows = cur.fetchall()\n",
        "    preview[t] = pd.DataFrame(rows, columns=cols)\n",
        "\n",
        "{t: df.shape for t, df in preview.items()}\n"
      ]
    },
    {
      "cell_type": "markdown",
      "metadata": {},
      "source": [
        "## Data Quality Checks\n",
        "We will run basic DQ checks: row counts, null checks on keys, referential integrity checks, and value ranges.\n"
      ]
    },
    {
      "cell_type": "code",
      "execution_count": null,
      "metadata": {},
      "outputs": [],
      "source": [
        "dq_sql = {\n",
        "    'customers_not_null_id': \"SELECT COUNT(*) CNT FROM RAW.CUSTOMERS WHERE CUSTOMER_ID IS NULL\",\n",
        "    'orders_orphan_customers': \"SELECT COUNT(*) CNT FROM RAW.ORDERS o LEFT JOIN RAW.CUSTOMERS c ON o.CUSTOMER_ID=c.CUSTOMER_ID WHERE c.CUSTOMER_ID IS NULL\",\n",
        "    'order_items_orphan_orders': \"SELECT COUNT(*) CNT FROM RAW.ORDER_ITEMS oi LEFT JOIN RAW.ORDERS o ON oi.ORDER_ID=o.ORDER_ID WHERE o.ORDER_ID IS NULL\",\n",
        "    'order_items_orphan_products': \"SELECT COUNT(*) CNT FROM RAW.ORDER_ITEMS oi LEFT JOIN RAW.PRODUCTS p ON oi.PRODUCT_ID=p.PRODUCT_ID WHERE p.PRODUCT_ID IS NULL\",\n",
        "    'price_non_negative': \"SELECT COUNT(*) CNT FROM RAW.PRODUCTS WHERE UNIT_PRICE < 0 OR COST_PRICE < 0\"\n",
        "}\n",
        "\n",
        "results = {}\n",
        "for name, sql in dq_sql.items():\n",
        "    cur.execute(sql)\n",
        "    results[name] = cur.fetchone()[0]\n",
        "\n",
        "results\n"
      ]
    },
    {
      "cell_type": "markdown",
      "metadata": {},
      "source": [
        "## Transformations and Modeling (CURATED)\n",
        "We will build `DIM_CUSTOMER`, `DIM_PRODUCT`, `DIM_DATE`, `FACT_SALES`, and `FACT_INTERACTIONS`.\n",
        "If already created via `00_Setup.sql`, we will refresh them for idempotency.\n"
      ]
    },
    {
      "cell_type": "code",
      "execution_count": null,
      "metadata": {},
      "outputs": [],
      "source": [
        "cur.execute(\"USE SCHEMA CURATED;\")\n",
        "\n",
        "sqls = [\n",
        "    \"CREATE OR REPLACE TABLE DIM_CUSTOMER AS SELECT c.CUSTOMER_ID, c.CUSTOMER_EXTERNAL_KEY, c.FIRST_NAME, c.LAST_NAME, c.EMAIL, c.GENDER, c.BIRTH_DATE, c.CITY, c.STATE, c.COUNTRY, c.SEGMENT, c.CREATED_AT, c.UPDATED_AT FROM RAW.CUSTOMERS c;\",\n",
        "    \"CREATE OR REPLACE TABLE DIM_PRODUCT AS SELECT p.PRODUCT_ID, p.SKU, p.PRODUCT_NAME, p.CATEGORY, p.SUBCATEGORY, p.BRAND, p.UNIT_PRICE, p.COST_PRICE, p.ACTIVE_FLAG FROM RAW.PRODUCTS p;\",\n",
        "    \"CREATE OR REPLACE TABLE DIM_DATE AS WITH seq AS (SELECT DATEADD(day, ROW_NUMBER() OVER (ORDER BY 1) - 1, '2024-01-01') AS d FROM TABLE(GENERATOR(ROWCOUNT => 400))) SELECT d AS DATE_KEY, YEAR(d) AS YEAR, MONTH(d) AS MONTH, DAY(d) AS DAY, TO_CHAR(d,'DY') AS DOW_SHORT, TO_CHAR(d,'Mon') AS MONTH_SHORT FROM seq;\",\n",
        "    \"CREATE OR REPLACE TABLE FACT_SALES AS SELECT oi.ORDER_ITEM_ID, o.ORDER_ID, o.ORDER_DATE::DATE AS ORDER_DATE, o.CUSTOMER_ID, oi.PRODUCT_ID, oi.QUANTITY, oi.UNIT_PRICE_AT_ORDER, oi.DISCOUNT_AMOUNT, (oi.QUANTITY * oi.UNIT_PRICE_AT_ORDER - oi.DISCOUNT_AMOUNT) AS GROSS_REVENUE, (oi.QUANTITY * p.COST_PRICE) AS COST_OF_GOODS, ((oi.QUANTITY * oi.UNIT_PRICE_AT_ORDER - oi.DISCOUNT_AMOUNT) - (oi.QUANTITY * p.COST_PRICE)) AS PROFIT, o.CHANNEL, o.ORDER_STATUS FROM RAW.ORDER_ITEMS oi JOIN RAW.ORDERS o ON o.ORDER_ID = oi.ORDER_ID JOIN RAW.PRODUCTS p ON p.PRODUCT_ID = oi.PRODUCT_ID WHERE o.ORDER_STATUS IN ('Paid','Shipped','Delivered');\",\n",
        "    \"CREATE OR REPLACE TABLE FACT_INTERACTIONS AS SELECT i.INTERACTION_ID, i.CUSTOMER_ID, i.INTERACTION_TS::DATE AS INTERACTION_DATE, i.CHANNEL, i.EVENT_TYPE, i.EVENT_PROPERTIES, i.CAMPAIGN_ID FROM RAW.CUSTOMER_INTERACTIONS i;\"\n",
        "]\n",
        "\n",
        "for s in sqls:\n",
        "    cur.execute(s)\n",
        "\n",
        "print('CURATED models built.')\n"
      ]
    },
    {
      "cell_type": "markdown",
      "metadata": {},
      "source": [
        "## Analytical Views and Metrics (MART)\n",
        "We will build or refresh views for:\n",
        "- Revenue daily, by product, by segment\n",
        "- Customer LTV\n",
        "- Campaign CAC\n",
        "- Retention, churn\n",
        "- Satisfaction\n",
        "- Order summary\n"
      ]
    },
    {
      "cell_type": "code",
      "execution_count": null,
      "metadata": {},
      "outputs": [],
      "source": [
        "cur.execute(\"USE SCHEMA MART;\")\n",
        "\n",
        "mart_sqls = [\n",
        "    \"CREATE OR REPLACE VIEW V_REVENUE_DAILY AS SELECT f.ORDER_DATE AS DATE, SUM(f.GROSS_REVENUE) AS TOTAL_REVENUE, SUM(f.PROFIT) AS TOTAL_PROFIT FROM CURATED.FACT_SALES f GROUP BY 1 ORDER BY 1;\",\n",
        "    \"CREATE OR REPLACE VIEW V_REVENUE_BY_PRODUCT AS SELECT p.CATEGORY, p.SUBCATEGORY, p.PRODUCT_NAME, SUM(f.GROSS_REVENUE) AS REVENUE, SUM(f.PROFIT) AS PROFIT, SUM(f.QUANTITY) AS UNITS FROM CURATED.FACT_SALES f JOIN CURATED.DIM_PRODUCT p USING (PRODUCT_ID) GROUP BY 1,2,3 ORDER BY REVENUE DESC;\",\n",
        "    \"CREATE OR REPLACE VIEW V_REVENUE_BY_SEGMENT AS SELECT c.SEGMENT, SUM(f.GROSS_REVENUE) AS REVENUE, SUM(f.PROFIT) AS PROFIT FROM CURATED.FACT_SALES f JOIN CURATED.DIM_CUSTOMER c USING (CUSTOMER_ID) GROUP BY 1 ORDER BY REVENUE DESC;\",\n",
        "    \"CREATE OR REPLACE VIEW V_CUSTOMER_LTV AS SELECT c.CUSTOMER_ID, c.FIRST_NAME, c.LAST_NAME, c.SEGMENT, SUM(f.PROFIT) AS REALIZED_LTV FROM CURATED.FACT_SALES f JOIN CURATED.DIM_CUSTOMER c USING (CUSTOMER_ID) GROUP BY 1,2,3,4 ORDER BY REALIZED_LTV DESC;\",\n",
        "    \"CREATE OR REPLACE VIEW V_CAMPAIGN_CAC AS SELECT mc.CAMPAIGN_ID, mc.CAMPAIGN_NAME, mc.CHANNEL, mc.BUDGET, NULLIF(COUNT(DISTINCT fi.CUSTOMER_ID),0) AS DISTINCT_CUSTOMERS, CASE WHEN COUNT(DISTINCT fi.CUSTOMER_ID) = 0 THEN NULL ELSE mc.BUDGET / COUNT(DISTINCT fi.CUSTOMER_ID) END AS CAC FROM RAW.MARKETING_CAMPAIGNS mc LEFT JOIN CURATED.FACT_INTERACTIONS fi USING (CAMPAIGN_ID) GROUP BY 1,2,3,4;\",\n",
        "    \"CREATE OR REPLACE VIEW V_RETENTION_RATE AS WITH orders_per_customer AS ( SELECT CUSTOMER_ID, COUNT(DISTINCT ORDER_ID) AS orders FROM CURATED.FACT_SALES GROUP BY 1 ) SELECT (SUM(CASE WHEN orders >= 2 THEN 1 ELSE 0 END) / NULLIF(COUNT(*),0)) AS RETENTION_RATE FROM orders_per_customer;\",\n",
        "    \"CREATE OR REPLACE VIEW V_CHURN_RATE AS SELECT 1 - (SELECT RETENTION_RATE FROM V_RETENTION_RATE) AS CHURN_RATE;\",\n",
        "    \"CREATE OR REPLACE VIEW V_CUSTOMER_SATISFACTION AS SELECT AVG(TRY_TO_NUMBER(i.EVENT_PROPERTIES:score)) AS AVG_RATING FROM CURATED.FACT_INTERACTIONS i WHERE i.EVENT_TYPE = 'Rating';\",\n",
        "    \"CREATE OR REPLACE VIEW V_ORDER_SUMMARY AS SELECT ORDER_ID, ORDER_DATE, CHANNEL, ORDER_STATUS, SUM(QUANTITY) AS TOTAL_ITEMS, SUM(GROSS_REVENUE) AS ORDER_REVENUE, SUM(PROFIT) AS ORDER_PROFIT FROM CURATED.FACT_SALES GROUP BY 1,2,3,4;\"\n",
        "]\n",
        "\n",
        "for s in mart_sqls:\n",
        "    cur.execute(s)\n",
        "\n",
        "print('MART views created/refreshed.')\n"
      ]
    },
    {
      "cell_type": "markdown",
      "metadata": {},
      "source": [
        "## Compute Business Metrics\n",
        "Query the views to produce KPI tables used by the dashboard.\n"
      ]
    },
    {
      "cell_type": "code",
      "execution_count": null,
      "metadata": {},
      "outputs": [],
      "source": [
        "rev_daily = pd.read_sql(\"SELECT * FROM MART.V_REVENUE_DAILY ORDER BY DATE\", conn)\n",
        "rev_by_prod = pd.read_sql(\"SELECT * FROM MART.V_REVENUE_BY_PRODUCT ORDER BY REVENUE DESC\", conn)\n",
        "rev_by_seg = pd.read_sql(\"SELECT * FROM MART.V_REVENUE_BY_SEGMENT ORDER BY REVENUE DESC\", conn)\n",
        "ltv = pd.read_sql(\"SELECT * FROM MART.V_CUSTOMER_LTV ORDER BY REALIZED_LTV DESC\", conn)\n",
        "retention = pd.read_sql(\"SELECT * FROM MART.V_RETENTION_RATE\", conn)\n",
        "churn = pd.read_sql(\"SELECT * FROM MART.V_CHURN_RATE\", conn)\n",
        "satisfaction = pd.read_sql(\"SELECT * FROM MART.V_CUSTOMER_SATISFACTION\", conn)\n",
        "order_summary = pd.read_sql(\"SELECT * FROM MART.V_ORDER_SUMMARY ORDER BY ORDER_DATE DESC\", conn)\n",
        "\n",
        "rev_daily.head(), rev_by_prod.head(), rev_by_seg.head(), ltv.head(), retention, churn, satisfaction.head(), order_summary.head()\n"
      ]
    },
    {
      "cell_type": "markdown",
      "metadata": {},
      "source": [
        "## Performance Considerations\n",
        "- Use clustering keys on large fact tables (e.g., `ORDERS(ORDER_DATE, CUSTOMER_ID)`, `ORDER_ITEMS(ORDER_ID, PRODUCT_ID)`).\n",
        "- Consider materialized views for heavy aggregations.\n",
        "- Use appropriate warehouse size; enable auto-suspend and auto-resume.\n",
        "- Leverage `COPY INTO` and external stages for bulk loading to RAW.\n",
        "- Partition work into RAW -> CURATED -> MART to isolate concerns.\n"
      ]
    }
  ],
  "metadata": {
    "kernelspec": {
      "display_name": ".venv",
      "language": "python",
      "name": "python3"
    },
    "language_info": {
      "codemirror_mode": {
        "name": "ipython",
        "version": 3
      },
      "file_extension": ".py",
      "mimetype": "text/x-python",
      "name": "python",
      "nbconvert_exporter": "python",
      "pygments_lexer": "ipython3",
      "version": "3.9.6"
    }
  },
  "nbformat": 4,
  "nbformat_minor": 2
}
